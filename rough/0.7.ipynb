{
 "cells": [
  {
   "cell_type": "markdown",
   "metadata": {},
   "source": [
    "#  Notebook 0.7: Building a Minimal Interpreter or Compiler\n",
    "\n",
    "###  Goal:\n",
    "Build a very simple interpreter to understand parsing, tokenization, evaluation, and control flow."
   ]
  },
  {
   "cell_type": "markdown",
   "metadata": {},
   "source": [
    "###  Section 1: What Is an Interpreter?\n",
    "\n",
    "- Reads code line-by-line\n",
    "- Parses the text into **tokens**\n",
    "- Converts tokens into **expressions (AST)**\n",
    "- Evaluates expressions to compute a result\n",
    "\n",
    "We'll build a simple calculator that can compute expressions like `1 + 2 * (3 + 4)`."
   ]
  },
  {
   "cell_type": "markdown",
   "metadata": {},
   "source": [
    "###  Section 2: Tokenizer (Lexer)\n",
    "\n",
    "Breaks input string into tokens (numbers, operators, parentheses)."
   ]
  },
  {
   "cell_type": "code",
   "execution_count": 1,
   "metadata": {},
   "outputs": [
    {
     "data": {
      "text/plain": [
       "['2', '+', '3', '*', '(', '4', '-', '1', ')']"
      ]
     },
     "execution_count": 1,
     "metadata": {},
     "output_type": "execute_result"
    }
   ],
   "source": [
    "import re\n",
    "\n",
    "def tokenize(expr):\n",
    "    tokens = re.findall(r'\\d+|[()+\\-*\\/]', expr)\n",
    "    return tokens\n",
    "\n",
    "tokenize(\"2 + 3 * (4 - 1)\")"
   ]
  },
  {
   "cell_type": "markdown",
   "metadata": {},
   "source": [
    "###  Section 3: Recursive Parser (AST Builder)\n",
    "\n",
    "Turns tokens into nested tree structure. We'll use a recursive descent parser.\n",
    "- Handles operator precedence (`*`, `/` > `+`, `-`)\n",
    "- Handles parentheses"
   ]
  },
  {
   "cell_type": "code",
   "execution_count": 2,
   "metadata": {},
   "outputs": [],
   "source": [
    "class Parser:\n",
    "    def __init__(self, tokens):\n",
    "        self.tokens = tokens\n",
    "        self.pos = 0\n",
    "\n",
    "    def peek(self):\n",
    "        return self.tokens[self.pos] if self.pos < len(self.tokens) else None\n",
    "\n",
    "    def eat(self):\n",
    "        self.pos += 1\n",
    "\n",
    "    def parse_expr(self):\n",
    "        left = self.parse_term()\n",
    "        while self.peek() in ('+', '-'):\n",
    "            op = self.peek()\n",
    "            self.eat()\n",
    "            right = self.parse_term()\n",
    "            left = (op, left, right)\n",
    "        return left\n",
    "\n",
    "    def parse_term(self):\n",
    "        left = self.parse_factor()\n",
    "        while self.peek() in ('*', '/'):\n",
    "            op = self.peek()\n",
    "            self.eat()\n",
    "            right = self.parse_factor()\n",
    "            left = (op, left, right)\n",
    "        return left\n",
    "\n",
    "    def parse_factor(self):\n",
    "        tok = self.peek()\n",
    "        if tok == '(':\n",
    "            self.eat()\n",
    "            expr = self.parse_expr()\n",
    "            self.eat()  # eat ')'\n",
    "            return expr\n",
    "        else:\n",
    "            self.eat()\n",
    "            return int(tok)"
   ]
  },
  {
   "cell_type": "code",
   "execution_count": 3,
   "metadata": {},
   "outputs": [
    {
     "data": {
      "text/plain": [
       "('+', 2, ('*', 3, ('-', 4, 1)))"
      ]
     },
     "execution_count": 3,
     "metadata": {},
     "output_type": "execute_result"
    }
   ],
   "source": [
    "# Parse example\n",
    "tokens = tokenize(\"2 + 3 * (4 - 1)\")\n",
    "tree = Parser(tokens).parse_expr()\n",
    "tree"
   ]
  },
  {
   "cell_type": "markdown",
   "metadata": {},
   "source": [
    "### Section 4: Evaluator\n",
    "\n",
    "Walks the AST tree and computes the result."
   ]
  },
  {
   "cell_type": "code",
   "execution_count": 4,
   "metadata": {},
   "outputs": [],
   "source": [
    "def evaluate(tree):\n",
    "    if isinstance(tree, int):\n",
    "        return tree\n",
    "    op, left, right = tree\n",
    "    if op == '+': return evaluate(left) + evaluate(right)\n",
    "    if op == '-': return evaluate(left) - evaluate(right)\n",
    "    if op == '*': return evaluate(left) * evaluate(right)\n",
    "    if op == '/': return evaluate(left) / evaluate(right)\n",
    "    raise ValueError(f\"Unknown operator {op}\")"
   ]
  },
  {
   "cell_type": "code",
   "execution_count": 5,
   "metadata": {},
   "outputs": [
    {
     "data": {
      "text/plain": [
       "11"
      ]
     },
     "execution_count": 5,
     "metadata": {},
     "output_type": "execute_result"
    }
   ],
   "source": [
    "# Evaluate result\n",
    "evaluate(tree)"
   ]
  },
  {
   "cell_type": "markdown",
   "metadata": {},
   "source": [
    "###  Section 5: Full Interpreter\n",
    "\n",
    "Combine everything into a `run()` function:"
   ]
  },
  {
   "cell_type": "code",
   "execution_count": 6,
   "metadata": {},
   "outputs": [
    {
     "data": {
      "text/plain": [
       "15"
      ]
     },
     "execution_count": 6,
     "metadata": {},
     "output_type": "execute_result"
    }
   ],
   "source": [
    "def run(expr):\n",
    "    tokens = tokenize(expr)\n",
    "    tree = Parser(tokens).parse_expr()\n",
    "    return evaluate(tree)\n",
    "\n",
    "# Test\n",
    "run(\"1 + 2 * (3 + 4)\")"
   ]
  },
  {
   "cell_type": "markdown",
   "metadata": {},
   "source": [
    "###  Summary\n",
    "\n",
    "| Part       | Role                                      |\n",
    "|------------|-------------------------------------------|\n",
    "| Tokenizer  | Breaks input into numbers and operators   |\n",
    "| Parser     | Builds abstract syntax tree (AST)         |\n",
    "| Evaluator  | Walks AST and computes result             |\n",
    "| Interpreter| Combines all to run input expressions     |\n",
    "\n",
    "**We built a mini-language for arithmetic from scratch!** This is the core idea behind all interpreters and compilers."
   ]
  },
  {
   "cell_type": "markdown",
   "id": "2a30812e",
   "metadata": {},
   "source": []
  }
 ],
 "metadata": {
  "kernelspec": {
   "display_name": "Python 3",
   "language": "python",
   "name": "python3"
  },
  "language_info": {
   "codemirror_mode": {
    "name": "ipython",
    "version": 3
   },
   "file_extension": ".py",
   "mimetype": "text/x-python",
   "name": "python",
   "nbconvert_exporter": "python",
   "pygments_lexer": "ipython3",
   "version": "3.10.12"
  }
 },
 "nbformat": 4,
 "nbformat_minor": 5
}
