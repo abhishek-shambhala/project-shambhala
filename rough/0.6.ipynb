{
 "cells": [
  {
   "cell_type": "markdown",
   "metadata": {},
   "source": [
    "# 📓 Notebook 0.6: What is a Programming Language, Really?\n\n",
    "### 🎯 Goal:\n",
    "Understand what a programming language is, how it works under the hood, and how syntax maps to computation."
   ]
  },
  {
   "cell_type": "markdown",
   "metadata": {},
   "source": [
    "### 💬 Section 1: What *is* a Programming Language?\n\n",
    "- A programming language is a **formal system** for describing computation.\n",
    "- It has:\n",
    "  - **Syntax**: What is allowed (grammar, structure)\n",
    "  - **Semantics**: What it means (execution behavior)\n",
    "  - **Pragmatics**: How it is used in practice\n\n",
    "**Examples:**\n",
    "- `x = 5` is syntax.\n",
    "- `x` gets stored in memory is semantics.\n",
    "- Used in a loop is pragmatics."
   ]
  },
  {
   "cell_type": "markdown",
   "metadata": {},
   "source": [
    "### 🔤 Section 2: Syntax — The Rules of Structure\n\n",
    "Each language defines a **grammar** for how statements are constructed.\n\n",
    "- In Python: `x = 5`, `for`, `def`, etc.\n",
    "- In C: `int x = 5;`\n",
    "- In Lisp: `(define x 5)`\n\n",
    "```python\n",
    "# valid syntax\n",
    "def square(x):\n",
    "    return x * x\n",
    "```"
   ]
  },
  {
   "cell_type": "code",
   "execution_count": null,
   "metadata": {},
   "outputs": [],
   "source": [
    "# invalid syntax (missing colon)\n",
    "# def square(x)\n",
    "#     return x * x"
   ]
  },
  {
   "cell_type": "markdown",
   "metadata": {},
   "source": [
    "### 📐 Section 3: Semantics — What Does It *Mean*?\n\n",
    "- Semantics define **how code executes**.\n",
    "- When you write `x = 5`, the interpreter must:\n",
    "  - Allocate memory\n",
    "  - Bind the name `x` to value `5`\n",
    "- Semantics can be **dynamic** (Python) or **static** (C, Rust).\n\n",
    "```python\n",
    "x = 5\n",
    "print(x + 3)  # 8\n",
    "```"
   ]
  },
  {
   "cell_type": "code",
   "execution_count": null,
   "metadata": {},
   "outputs": [],
   "source": [
    "x = 5\n",
    "print(x + 3)"
   ]
  },
  {
   "cell_type": "markdown",
   "metadata": {},
   "source": [
    "### 🧠 Section 4: How Python Executes Code\n\n",
    "```text\n",
    "Source Code (x = 5)\n",
    "   ↓\n",
    "Parser → Abstract Syntax Tree (AST)\n",
    "   ↓\n",
    "Compiler → Bytecode\n",
    "   ↓\n",
    "Python Virtual Machine (PVM) → Machine Instructions\n",
    "```\n\n",
    "- Each line you write is parsed into **tokens**, turned into a tree, then bytecode.\n",
    "- You can inspect bytecode using the `dis` module."
   ]
  },
  {
   "cell_type": "code",
   "execution_count": null,
   "metadata": {},
   "outputs": [],
   "source": [
    "import dis\n\n",
    "def hello():\n",
    "    x = 42\n",
    "    return x\n\n",
    "dis.dis(hello)"
   ]
  },
  {
   "cell_type": "markdown",
   "metadata": {},
   "source": [
    "### 🔄 Section 5: All Languages Are Mappings\n\n",
    "Every programming language is a way to:\n\n",
    "- Map **abstract logic** (like loops, conditions, data) → **machine actions**\n",
    "- Some languages are closer to **human thinking** (Python, Ruby)\n",
    "- Others are closer to **hardware** (C, Assembly)\n\n",
    "Ultimately, all code gets converted to **machine instructions**."
   ]
  },
  {
   "cell_type": "markdown",
   "metadata": {},
   "source": [
    "### 🧠 Summary\n\n",
    "| Concept     | Description                                  |\n",
    "|-------------|----------------------------------------------|\n",
    "| Syntax      | Rules for valid statements                   |\n",
    "| Semantics   | What the code means / does                   |\n",
    "| Interpreter | Executes line-by-line                        |\n",
    "| Compiler    | Converts entire code to machine instructions |\n",
    "| Bytecode    | Intermediate between source and hardware     |\n\n",
    "A programming language is **not just code** — it's a language to communicate with a machine through logic and structure."
   ]
  }
 ],
 "metadata": {
  "kernelspec": {
   "display_name": "Python 3",
   "language": "python",
   "name": "python3"
  },
  "language_info": {
   "name": "python",
   "version": ""
  }
 },
 "nbformat": 4,
 "nbformat_minor": 5
}

