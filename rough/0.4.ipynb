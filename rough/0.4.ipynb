{
 "cells": [
  {
   "cell_type": "markdown",
   "metadata": {},
   "source": [
    "#  Notebook 0.4: Memory and Computation\n",
    "\n",
    "###  Objective:\n",
    "Understand how computers store and process data, and how memory is organized and accessed efficiently."
   ]
  },
  {
   "cell_type": "markdown",
   "metadata": {},
   "source": [
    "###  Section 1: What is Memory in a Computer?\n",
    "\n",
    "- **Memory** stores both data and instructions.\n",
    "- Every memory unit has an **address** and a **value** stored at that address.\n",
    "- A CPU reads/writes data from/to memory during computation.\n",
    "\n",
    "**Memory Types:**\n",
    "- RAM (main memory)\n",
    "- Cache (L1, L2, L3)\n",
    "- Registers (inside CPU)\n",
    "- Disk/SSD (persistent storage)\n",
    "- VRAM (GPU memory)"
   ]
  },
  {
   "cell_type": "markdown",
   "metadata": {},
   "source": [
    "###  Section 2: RAM, CPU, and GPU\n",
    "\n",
    "- **CPU (Central Processing Unit)**\n",
    "  - General-purpose processor\n",
    "  - Few cores, fast at sequential logic\n",
    "  - Can access all memory types\n",
    "\n",
    "- **RAM (Random Access Memory)**\n",
    "  - Temporary, volatile memory\n",
    "  - Fast, but not as fast as cache or registers\n",
    "  - All running programs use RAM to load code and variables\n",
    "\n",
    "- **GPU (Graphics Processing Unit)**\n",
    "  - Highly parallel processor\n",
    "  - Thousands of cores\n",
    "  - Great for matrix/tensor operations (ML, graphics)\n",
    "  - Uses its own dedicated memory: VRAM"
   ]
  },
  {
   "cell_type": "markdown",
   "metadata": {},
   "source": [
    "###  Section 3: Memory Hierarchy\n",
    "\n",
    "Memory is organized in **levels** based on speed and size:\n",
    "\n",
    "| Level     | Type         | Speed     | Size     | Location         |\n",
    "|-----------|--------------|-----------|----------|------------------|\n",
    "| L1 Cache  | Cache        | Fastest   | Very small | On CPU core     |\n",
    "| L2 Cache  | Cache        | Fast      | Small    | On CPU chip      |\n",
    "| RAM       | Main memory  | Medium    | GBs      | Motherboard      |\n",
    "| SSD/HDD   | Storage      | Slow      | TBs      | Motherboard      |\n",
    "\n",
    "- Closer to CPU = faster access, but smaller\n",
    "- Programs are optimized to **minimize RAM access** and use **cache/local registers** when possible"
   ]
  },
  {
   "cell_type": "markdown",
   "metadata": {},
   "source": [
    "###  Section 4: Memory Addressing\n",
    "\n",
    "- Each memory cell has a unique **address** (usually in hexadecimal)\n",
    "- Memory can be read/written using instructions like:\n",
    "  - `MOV [address], value`\n",
    "  - `LOAD R1, [address]`\n",
    "- Arrays and variables in Python also live in RAM (abstracted)\n",
    "\n",
    "```python\n",
    "a = [1, 2, 3]\n",
    "print(id(a))  # address of object in memory (CPython-specific)\n",
    "```"
   ]
  },
  {
   "cell_type": "code",
   "execution_count": 1,
   "metadata": {},
   "outputs": [
    {
     "name": "stdout",
     "output_type": "stream",
     "text": [
      "Memory address of list a: 0x7f0b28f0f940\n"
     ]
    }
   ],
   "source": [
    "a = [1, 2, 3]\n",
    "print(\"Memory address of list a:\", hex(id(a)))"
   ]
  },
  {
   "cell_type": "markdown",
   "metadata": {},
   "source": [
    "###  Summary\n",
    "\n",
    "| Component | Purpose                        |\n",
    "|-----------|---------------------------------|\n",
    "| CPU       | Executes instructions           |\n",
    "| RAM       | Stores active data/code         |\n",
    "| Cache     | Temporary fast storage inside CPU|\n",
    "| GPU       | Parallel computation on large data|\n",
    "| VRAM      | Memory for GPU                  |\n",
    "\n",
    "**Understanding memory hierarchy is key** to writing efficient programs and training fast machine learning models."
   ]
  },
  {
   "cell_type": "markdown",
   "id": "f443115f",
   "metadata": {},
   "source": []
  }
 ],
 "metadata": {
  "kernelspec": {
   "display_name": ".venv",
   "language": "python",
   "name": "python3"
  },
  "language_info": {
   "codemirror_mode": {
    "name": "ipython",
    "version": 3
   },
   "file_extension": ".py",
   "mimetype": "text/x-python",
   "name": "python",
   "nbconvert_exporter": "python",
   "pygments_lexer": "ipython3",
   "version": "3.10.12"
  }
 },
 "nbformat": 4,
 "nbformat_minor": 5
}
