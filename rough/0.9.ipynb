{
 "cells": [
  {
   "cell_type": "markdown",
   "metadata": {},
   "source": [
    "#  Notebook 0.9: Let’s Write Our Own Python Bytecode Interpreter\n",
    "\n",
    "###  Goal:\n",
    "Simulate how Python runs code internally using a minimal, custom bytecode interpreter.\n",
    "\n",
    "We’ll build a stack-based virtual machine that processes bytecode instructions similar to Python’s PVM."
   ]
  },
  {
   "cell_type": "markdown",
   "metadata": {},
   "source": [
    "###  Step 1: Define Bytecode Instructions\n",
    "\n",
    "We'll define bytecode manually for a simple expression:\n",
    "\n",
    "```python\n",
    "3 + 4\n",
    "```\n",
    "\n",
    "Becomes:\n",
    "\n",
    "```python\n",
    "[\n",
    "    (\"LOAD_CONST\", 3),\n",
    "    (\"LOAD_CONST\", 4),\n",
    "    (\"BINARY_ADD\",),\n",
    "    (\"RETURN_VALUE\",)\n",
    "]\n",
    "```"
   ]
  },
  {
   "cell_type": "code",
   "execution_count": 1,
   "metadata": {},
   "outputs": [],
   "source": [
    "# Our toy bytecode\n",
    "bytecode = [\n",
    "    (\"LOAD_CONST\", 3),\n",
    "    (\"LOAD_CONST\", 4),\n",
    "    (\"BINARY_ADD\",),\n",
    "    (\"RETURN_VALUE\",)\n",
    "]"
   ]
  },
  {
   "cell_type": "markdown",
   "metadata": {},
   "source": [
    "###  Step 2: Write the Interpreter\n",
    "\n",
    "We’ll use a stack to simulate how Python evaluates bytecode."
   ]
  },
  {
   "cell_type": "code",
   "execution_count": 2,
   "metadata": {},
   "outputs": [],
   "source": [
    "def run(bytecode):\n",
    "    stack = []\n",
    "    pc = 0  # program counter\n",
    "\n",
    "    while pc < len(bytecode):\n",
    "        instr = bytecode[pc]\n",
    "        op = instr[0]\n",
    "\n",
    "        if op == \"LOAD_CONST\":\n",
    "            stack.append(instr[1])\n",
    "        elif op == \"BINARY_ADD\":\n",
    "            b = stack.pop()\n",
    "            a = stack.pop()\n",
    "            stack.append(a + b)\n",
    "        elif op == \"RETURN_VALUE\":\n",
    "            return stack.pop()\n",
    "\n",
    "        pc += 1"
   ]
  },
  {
   "cell_type": "code",
   "execution_count": 3,
   "metadata": {},
   "outputs": [
    {
     "name": "stdout",
     "output_type": "stream",
     "text": [
      "Result: 7\n"
     ]
    }
   ],
   "source": [
    "# 🧪 Step 3: Run the Interpreter\n",
    "result = run(bytecode)\n",
    "print(\"Result:\", result)  # Should print 7"
   ]
  },
  {
   "cell_type": "markdown",
   "metadata": {},
   "source": [
    "###  Step 4: Try Another Example\n",
    "\n",
    "```python\n",
    "10 + (2 * 5)\n",
    "```\n",
    "Would become:\n",
    "```python\n",
    "[\n",
    "    (\"LOAD_CONST\", 2),\n",
    "    (\"LOAD_CONST\", 5),\n",
    "    (\"BINARY_MUL\",),\n",
    "    (\"LOAD_CONST\", 10),\n",
    "    (\"BINARY_ADD\",),\n",
    "    (\"RETURN_VALUE\",)\n",
    "]\n",
    "```\n",
    "*Try implementing `BINARY_MUL` yourself!*"
   ]
  },
  {
   "cell_type": "markdown",
   "metadata": {},
   "source": [
    "###  Summary\n",
    "\n",
    "| Concept        | Description                          |\n",
    "|----------------|--------------------------------------|\n",
    "| Bytecode       | Low-level instructions (like opcodes) |\n",
    "| Stack Machine  | Uses a stack to hold intermediate values |\n",
    "| Interpreter    | Walks through instructions and executes |\n",
    "\n",
    "**This is how the Python Virtual Machine (PVM) works internally — instruction by instruction.**"
   ]
  },
  {
   "cell_type": "markdown",
   "id": "e993a43a",
   "metadata": {},
   "source": []
  }
 ],
 "metadata": {
  "kernelspec": {
   "display_name": "Python 3",
   "language": "python",
   "name": "python3"
  },
  "language_info": {
   "codemirror_mode": {
    "name": "ipython",
    "version": 3
   },
   "file_extension": ".py",
   "mimetype": "text/x-python",
   "name": "python",
   "nbconvert_exporter": "python",
   "pygments_lexer": "ipython3",
   "version": "3.10.12"
  }
 },
 "nbformat": 4,
 "nbformat_minor": 5
}
