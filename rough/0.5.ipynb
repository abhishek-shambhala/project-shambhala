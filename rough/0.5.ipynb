{
 "cells": [
  {
   "cell_type": "markdown",
   "metadata": {},
   "source": [
    "# 📓 Notebook 0.5: From Hardware to Python\n\n",
    "### 🎯 Goal:\n",
    "Understand the abstraction layers that convert electrical signals into modern programming languages like Python."
   ]
  },
  {
   "cell_type": "markdown",
   "metadata": {},
   "source": [
    "### 🧠 Section 1: From Electrons to Logic\n\n",
    "- Computers operate with **transistors** that switch **ON/OFF** based on voltage.\n",
    "- These ON/OFF states are modeled using **Boolean logic** (`0` or `1`).\n",
    "- Logic gates like AND, OR, NOT, NAND form the basis of **digital circuits**.\n",
    "- Circuits → Arithmetic Logic Units (ALUs) → perform operations like `+`, `-`, comparisons, shifts."
   ]
  },
  {
   "cell_type": "markdown",
   "metadata": {},
   "source": [
    "### 🏗️ Section 2: Assembly Language\n\n",
    "- Assembly is a **low-level** language that maps directly to CPU instructions.\n",
    "- Example (x86):\n\n",
    "  ```\n",
    "  MOV AX, 5       ; Load value 5 into register AX\n",
    "  ADD AX, 2       ; Add 2 to AX\n",
    "  ```\n\n",
    "- Each line corresponds to a machine instruction (binary).\n\n",
    "```assembly\n",
    "Binary version of:\n",
    "  MOV AX, 5  →  B8 05 00\n",
    "```"
   ]
  },
  {
   "cell_type": "markdown",
   "metadata": {},
   "source": [
    "### 💻 Section 3: High-Level Languages (C, Python)\n\n",
    "- Writing in assembly is tedious → high-level languages were invented:\n",
    "  - **C**: Close to hardware, allows manual memory management.\n",
    "  - **Python**: Very high-level, abstract, readable, dynamic typing."
   ]
  },
  {
   "cell_type": "code",
   "execution_count": null,
   "metadata": {},
   "outputs": [],
   "source": [
    "// C version\n",
    "int a = 5;\n",
    "int b = 2;\n",
    "int c = a + b;"
   ]
  },
  {
   "cell_type": "code",
   "execution_count": null,
   "metadata": {},
   "outputs": [],
   "source": [
    "# Python version\n",
    "a = 5\n",
    "b = 2\n",
    "c = a + b\n",
    "print(c)"
   ]
  },
  {
   "cell_type": "markdown",
   "metadata": {},
   "source": [
    "### 🔁 Section 4: Compilers and Interpreters\n\n",
    "| Term        | Description                                                                 |\n",
    "|-------------|-----------------------------------------------------------------------------|\n",
    "| Compiler    | Translates entire high-level code to machine code (e.g., `gcc`)             |\n",
    "| Interpreter | Runs code line-by-line, no final binary output (e.g., Python interpreter)   |\n",
    "| Bytecode    | Intermediate format used by VMs (e.g., Python → `.pyc`)                     |"
   ]
  },
  {
   "cell_type": "code",
   "execution_count": null,
   "metadata": {},
   "outputs": [],
   "source": [
    "# C (compiled)\n",
    "# gcc program.c -o program\n",
    "# ./program\n\n",
    "# Python (interpreted)\n",
    "# python3 script.py"
   ]
  },
  {
   "cell_type": "markdown",
   "metadata": {},
   "source": [
    "### 🔄 Section 5: Abstraction Ladder\n\n",
    "```text\n",
    "Electric Signals\n",
    "   ↓\n",
    "Logic Gates\n",
    "   ↓\n",
    "Binary Machine Code\n",
    "   ↓\n",
    "Assembly Language\n",
    "   ↓\n",
    "C / System Programming\n",
    "   ↓\n",
    "High-Level Languages (Python)\n",
    "```\n\n",
    "- Python runs on an interpreter written in C.\n",
    "- C runs on compiled instructions interacting with OS and hardware.\n",
    "- This ladder is how raw electrons run `print(\"Hello\")`."
   ]
  },
  {
   "cell_type": "markdown",
   "metadata": {},
   "source": [
    "### 🧪 Code Example: Python to Bytecode"
   ]
  },
  {
   "cell_type": "code",
   "execution_count": null,
   "metadata": {},
   "outputs": [],
   "source": [
    "import dis\n\n",
    "def add(a, b):\n",
    "    return a + b\n\n",
    "dis.dis(add)"
   ]
  },
  {
   "cell_type": "markdown",
   "metadata": {},
   "source": [
    "### 🧠 Summary\n\n",
    "| Layer          | Description                            |\n",
    "|----------------|----------------------------------------|\n",
    "| Logic Gates    | Hardware that makes decisions          |\n",
    "| Assembly       | Human-readable machine instructions    |\n",
    "| C              | Efficient systems language             |\n",
    "| Python         | Human-friendly, abstract programming   |\n",
    "| Interpreter    | Converts high-level code into execution|\n\n",
    "**From voltages to virtual machines — abstraction allows humans to write powerful logic in just a few lines.**"
   ]
  }
 ],
 "metadata": {
  "kernelspec": {
   "display_name": "Python 3",
   "language": "python",
   "name": "python3"
  },
  "language_info": {
   "name": "python",
   "version": ""
  }
 },
 "nbformat": 4,
 "nbformat_minor": 5
}

