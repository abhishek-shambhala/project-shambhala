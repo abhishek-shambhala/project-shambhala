{
 "cells": [
  {
   "cell_type": "markdown",
   "metadata": {},
   "source": [
    "# **What is a computer, mathematically ?**  \n",
    "\n",
    "## **Section 1: Computation as a Function**  \n",
    "\n",
    "At the highest level, a computer **computes a function** \n",
    "$$ f : X \\rightarrow Y $$\n",
    "\n",
    "That is, it takes an input $ x \\in X $ and maps it to an output $y = f(x) \\in Y$.\n",
    "- **Example:** $f(x) = x^2$\n",
    "- **Program**: `def square(x): return x*x`  \n",
    "\n",
    "But how does it actually \"compute\"?\n",
    "\n",
    "## **Section 2: The Finite-State Machine (FSM)**  \n",
    "A finite-state machine (FSM) is a model of computation:\n",
    "- Set of states: $ S $\n",
    "- Input alphabet: $ \\Sigma $\n",
    "- Transition function: $ \\delta : S \\times \\Sigma \\rightarrow S  $  \n",
    "- Start state: $ s_0 \\in S $\n",
    "- (Optional) Accepting states: $F \\subseteq S$  \n",
    "\n",
    "### **Example: Binary Counter**  \n",
    "\n",
    "```text\n",
    "States: {0, 1, 2}\n",
    "Input: {1}\n",
    "Transitions:\n",
    "  (0,1) → 1\n",
    "  (1,1) → 2\n",
    "  (2,1) → 0\n",
    "```  \n",
    "Interpretation: The machine “remembers” its current state, and the transition function determines the next state.\n",
    "\n",
    "## **Section 3: Boolean Logic and Logic Gates**  \n",
    "Computers are built from logic gates that implement Boolean functions:  \n",
    "- AND: $f(x,y) = x \\land y$\n",
    "- OR : $f(x,y) = x \\lor y$\n",
    "- NOT: $f(x) = \\lnot x$  \n",
    "\n",
    "Every digital circuit is just a Boolean function composed from these gates.  \n",
    "Example:  \n",
    "The circuit $f(a,b,c) = (a\\land b) \\lor (\\lnot c)$ computes output based on 3 binary inputs.\n",
    "\n",
    "You can visualize this in code:  "
   ]
  },
  {
   "cell_type": "code",
   "execution_count": null,
   "metadata": {},
   "outputs": [],
   "source": [
    "def boolean_circuit(a, b, c):\n",
    "    return (a and b) or (not c)"
   ]
  },
  {
   "cell_type": "markdown",
   "metadata": {},
   "source": [
    "## **Section 4: The Turing Machine (Concept Only)**  \n",
    "\n",
    "A Turing machine is an abstract model of computation that can simulate any algorithm.  \n",
    "It consists of:  \n",
    "- Infinite tape (memory)\n",
    "- Head (reads/writes tape symbols)\n",
    "- States $Q$, input alphabet $\\sum$, tape alphabet $\\Gamma$\n",
    "- Transition function: $\\delta : Q \\times \\Gamma \\rightarrow Q \\times \\Gamma \\times \\{L, R\\}$\n",
    "\n",
    "Why Turing Machines Matter:  \n",
    "They give us the Church-Turing thesis — anything computable in reality is computable by a Turing machine.\n",
    "\n",
    "## **Section 5: Universality**  \n",
    "A universal computer is one that can:\n",
    "- Simulate any other computer\n",
    "- Execute arbitrary code given as data (like Python code or machine code)  \n",
    "\n",
    "This is what makes your laptop powerful — it’s not just doing arithmetic; it can emulate anything.  \n",
    "\n",
    "## **Python Simulation of FSM**"
   ]
  },
  {
   "cell_type": "code",
   "execution_count": 2,
   "metadata": {},
   "outputs": [
    {
     "name": "stdout",
     "output_type": "stream",
     "text": [
      "[1, 2, 0, 1]\n"
     ]
    }
   ],
   "source": [
    "# Simple FSM simulator\n",
    "class FSM:\n",
    "  def __init__(self, states, transitions, start_state):\n",
    "    self.states = states\n",
    "    self.transitions = transitions\n",
    "    self.state = start_state\n",
    "\n",
    "  def step(self, input_symbol):\n",
    "    key = (self.state, input_symbol)\n",
    "    self.state = self.transitions.get(key, self.state)\n",
    "    return self.state\n",
    "\n",
    "# Example: 3-state binary counter\n",
    "states = {0, 1, 2}\n",
    "transitions = {\n",
    "  (0, 1): 1,\n",
    "  (1, 1): 2,\n",
    "  (2, 1): 0\n",
    "}\n",
    "machine = FSM(states, transitions, 0)\n",
    "\n",
    "# Simulate steps\n",
    "inputs = [1, 1, 1, 1]\n",
    "outputs = [machine.step(i) for i in inputs]\n",
    "print(outputs)  # [1, 2, 0, 1]\n"
   ]
  },
  {
   "cell_type": "markdown",
   "metadata": {},
   "source": []
  },
  {
   "cell_type": "markdown",
   "metadata": {},
   "source": []
  },
  {
   "cell_type": "markdown",
   "metadata": {},
   "source": []
  }
 ],
 "metadata": {
  "kernelspec": {
   "display_name": "Python 3",
   "language": "python",
   "name": "python3"
  },
  "language_info": {
   "codemirror_mode": {
    "name": "ipython",
    "version": 3
   },
   "file_extension": ".py",
   "mimetype": "text/x-python",
   "name": "python",
   "nbconvert_exporter": "python",
   "pygments_lexer": "ipython3",
   "version": "3.10.12"
  }
 },
 "nbformat": 4,
 "nbformat_minor": 2
}
