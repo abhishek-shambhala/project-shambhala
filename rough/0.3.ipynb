{
 "cells": [
  {
   "cell_type": "markdown",
   "id": "ce6aaf51",
   "metadata": {},
   "source": [
    "# Notebook 0.3: Computation and Information Theory Basics\n",
    "\n",
    "###  Objective:\n",
    "To understand how information is defined and measured, and how computation relates to entropy, compression, and divergence between distributions."
   ]
  },
  {
   "cell_type": "markdown",
   "id": "20f53365",
   "metadata": {},
   "source": [
    "###  Section 1: What is Information?\n",
    "\n",
    "- Information is **reduction in uncertainty**.\n",
    "- The more unexpected an event, the more information it carries.\n",
    "\n",
    "**Bit**: The fundamental unit of information. Tells us the answer to a Yes/No question.\n",
    "\n",
    "If a random variable \\( X \\) takes values in a set with probabilities \\( P(x) \\), then:\n",
    "\n",
    "- Information content of outcome \\( x \\):\n",
    "\\[ I(x) = -\\log_2 P(x) \\]\n",
    "- More probable events carry **less** information."
   ]
  },
  {
   "cell_type": "markdown",
   "id": "8fec2e0a",
   "metadata": {},
   "source": [
    "###  Section 2: Shannon Entropy\n",
    "\n",
    "Shannon entropy quantifies **average information** in a random variable:\n",
    "\\[ H(X) = -\\sum_{x \\in X} P(x) \\log_2 P(x) \\]\n",
    "\n",
    "- \\( H(X) = 0 \\) when outcome is certain.\n",
    "- Higher entropy = more uncertainty = more information needed to describe the outcome."
   ]
  },
  {
   "cell_type": "code",
   "execution_count": 3,
   "id": "e3eaf317",
   "metadata": {},
   "outputs": [
    {
     "name": "stdout",
     "output_type": "stream",
     "text": [
      "Collecting numpy\n",
      "  Downloading numpy-2.2.6-cp310-cp310-manylinux_2_17_x86_64.manylinux2014_x86_64.whl.metadata (62 kB)\n",
      "Downloading numpy-2.2.6-cp310-cp310-manylinux_2_17_x86_64.manylinux2014_x86_64.whl (16.8 MB)\n",
      "\u001b[2K   \u001b[38;2;114;156;31m━━━━━━━━━━━━━━━━━━━━━━━━━━━━━━━━━━━━━━━━\u001b[0m \u001b[32m16.8/16.8 MB\u001b[0m \u001b[31m3.9 MB/s\u001b[0m eta \u001b[36m0:00:00\u001b[0mm eta \u001b[36m0:00:01\u001b[0m0:01\u001b[0m:02\u001b[0m\n",
      "\u001b[?25hInstalling collected packages: numpy\n",
      "Successfully installed numpy-2.2.6\n"
     ]
    }
   ],
   "source": [
    "!pip3 install numpy"
   ]
  },
  {
   "cell_type": "code",
   "execution_count": 4,
   "id": "d2d4376a",
   "metadata": {},
   "outputs": [
    {
     "name": "stdout",
     "output_type": "stream",
     "text": [
      "Entropy (uniform): 2.0\n",
      "Entropy (biased): 1.3567796494470397\n"
     ]
    }
   ],
   "source": [
    "import numpy as np\n",
    "\n",
    "def shannon_entropy(p):\n",
    "    p = np.array(p)\n",
    "    p = p[p > 0]  # avoid log(0)\n",
    "    return -np.sum(p * np.log2(p))\n",
    "\n",
    "# Example distributions\n",
    "uniform = [0.25, 0.25, 0.25, 0.25]\n",
    "biased = [0.7, 0.1, 0.1, 0.1]\n",
    "\n",
    "print(\"Entropy (uniform):\", shannon_entropy(uniform))\n",
    "print(\"Entropy (biased):\", shannon_entropy(biased))"
   ]
  },
  {
   "cell_type": "markdown",
   "id": "bdf7b2d3",
   "metadata": {},
   "source": [
    "### Section 3: Compression and Redundancy\n",
    "\n",
    "- Compression reduces size by **removing predictable patterns**.\n",
    "- If data is highly predictable → high redundancy → high compression possible.\n",
    "\n",
    "**Entropy = Theoretical limit of compression**\n",
    "\n",
    "For example:\n",
    "- A message of 1000 bits with entropy 2.5 bits/symbol → can be compressed to ~2500 bits."
   ]
  },
  {
   "cell_type": "markdown",
   "id": "e2c46998",
   "metadata": {},
   "source": [
    "### Section 4: KL Divergence\n",
    "\n",
    "Kullback-Leibler (KL) divergence measures the difference between two probability distributions:\n",
    "\\[ D_{KL}(P || Q) = \\sum_x P(x) \\log_2 \\frac{P(x)}{Q(x)} \\]\n",
    "\n",
    "- Not symmetric: \\( D_{KL}(P || Q) \\neq D_{KL}(Q || P) \\)\n",
    "- Measures how inefficient it is to assume distribution Q when the true distribution is P."
   ]
  },
  {
   "cell_type": "code",
   "execution_count": null,
   "id": "e830905a",
   "metadata": {},
   "outputs": [],
   "source": [
    "def kl_divergence(p, q):\n",
    "    p = np.array(p)\n",
    "    q = np.array(q)\n",
    "    mask = (p > 0) & (q > 0)\n",
    "    return np.sum(p[mask] * np.log2(p[mask] / q[mask]))\n",
    "\n",
    "# P is true distribution, Q is approximation\n",
    "P = [0.7, 0.1, 0.1, 0.1]\n",
    "Q = [0.25, 0.25, 0.25, 0.25]\n",
    "print(\"KL Divergence D(P || Q):\", kl_divergence(P, Q))"
   ]
  },
  {
   "cell_type": "markdown",
   "id": "3759a451",
   "metadata": {},
   "source": [
    "###  Summary\n",
    "\n",
    "| Concept       | Meaning                                      |\n",
    "|---------------|----------------------------------------------|\n",
    "| Bit           | Unit of information (answer to Yes/No)       |\n",
    "| Entropy       | Average uncertainty in a distribution         |\n",
    "| Compression   | Reducing data size by removing redundancy     |\n",
    "| KL Divergence | Difference between two distributions          |\n",
    "\n",
    "Information theory tells us **how much data we need to encode uncertainty** — this is fundamental to compression, learning, and even language models."
   ]
  },
  {
   "cell_type": "markdown",
   "id": "42a3f890",
   "metadata": {},
   "source": []
  }
 ],
 "metadata": {
  "kernelspec": {
   "display_name": ".venv",
   "language": "python",
   "name": "python3"
  },
  "language_info": {
   "codemirror_mode": {
    "name": "ipython",
    "version": 3
   },
   "file_extension": ".py",
   "mimetype": "text/x-python",
   "name": "python",
   "nbconvert_exporter": "python",
   "pygments_lexer": "ipython3",
   "version": "3.10.12"
  }
 },
 "nbformat": 4,
 "nbformat_minor": 5
}
