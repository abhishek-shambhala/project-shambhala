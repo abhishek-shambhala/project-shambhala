{
 "cells": [
  {
   "cell_type": "markdown",
   "id": "2b45eeb7",
   "metadata": {},
   "source": [
    "# Notebook 0.2: Binary Numbers and Representation of Information\n",
    "\n",
    "### Objective:\n",
    "To understand how computers represent numbers, text, and other data using **binary digits (bits)**, and how to manipulate this data using **bitwise operations**."
   ]
  },
  {
   "cell_type": "markdown",
   "id": "8d325770",
   "metadata": {},
   "source": [
    "### Section 1: Why Binary?\n",
    "- Computers use **electric signals**: on/off, high/low voltage → naturally modeled as **0** and **1**.\n",
    "- Every piece of data (numbers, characters, instructions, even images) is ultimately stored as sequences of **bits**."
   ]
  },
  {
   "cell_type": "markdown",
   "id": "0a1a604f",
   "metadata": {},
   "source": [
    "### Section 2: Number Systems\n",
    "\n",
    "| System | Base | Digits        | Example      |\n",
    "|--------|------|---------------|--------------|\n",
    "| Binary | 2    | 0, 1          | `1101₂ = 13₁₀` |\n",
    "| Decimal| 10   | 0–9           | `13₁₀ = 1101₂` |\n",
    "| Hex    | 16   | 0–9, A–F      | `13₁₀ = D₁₆`   |\n",
    "\n",
    "**Conversion Example:**\n",
    "- \\( 1101_2 = 1×2^3 + 1×2^2 + 0×2^1 + 1×2^0 = 8 + 4 + 0 + 1 = 13 \\)"
   ]
  },
  {
   "cell_type": "markdown",
   "id": "d7edd27f",
   "metadata": {},
   "source": [
    "### Section 3: Representing Integers in Binary\n",
    "\n",
    "| Type           | Example | Bits Used | Notes                              |\n",
    "|----------------|---------|-----------|------------------------------------|\n",
    "| Unsigned int   | 13      | 8 bits    | 00001101                            |\n",
    "| Signed int     | -13     | 8 bits    | Two’s complement: 11110011         |\n",
    "| Overflow       | 300     | 8 bits    | Gets wrapped around at 255         |"
   ]
  },
  {
   "cell_type": "code",
   "execution_count": 1,
   "id": "767579a8",
   "metadata": {},
   "outputs": [
    {
     "name": "stdout",
     "output_type": "stream",
     "text": [
      "Binary of 13: 0b1101\n"
     ]
    }
   ],
   "source": [
    "# Binary representation of an integer\n",
    "number = 13\n",
    "print(f\"Binary of 13: {bin(number)}\")"
   ]
  },
  {
   "cell_type": "markdown",
   "id": "91022a8b",
   "metadata": {},
   "source": [
    "### Section 4: Representing Text — ASCII and Unicode\n",
    "\n",
    "Each character is mapped to a number.\n",
    "\n",
    "- **ASCII**: 7 bits, maps A–Z, a–z, digits, symbols  \n",
    "  e.g., `'A' → 65 → 01000001`  \n",
    "- **Unicode**: Extends to emojis, symbols, scripts (UTF-8, UTF-16)"
   ]
  },
  {
   "cell_type": "code",
   "execution_count": 2,
   "id": "18d6f265",
   "metadata": {},
   "outputs": [
    {
     "name": "stdout",
     "output_type": "stream",
     "text": [
      "ASCII value of 'A': 65\n",
      "Binary: 01000001\n"
     ]
    }
   ],
   "source": [
    "char = 'A'\n",
    "print(f\"ASCII value of '{char}':\", ord(char))\n",
    "print(f\"Binary:\", format(ord(char), '08b'))"
   ]
  },
  {
   "cell_type": "markdown",
   "id": "15d305e4",
   "metadata": {},
   "source": [
    "### Section 5: Representing Images\n",
    "\n",
    "- Images are stored as a **grid of pixels**\n",
    "- Each pixel = tuple of Red, Green, Blue (RGB)\n",
    "- Each color channel: 8 bits (0–255)\n",
    "\n",
    "| Pixel         | Binary (RGB)                          |\n",
    "|---------------|----------------------------------------|\n",
    "| (255, 0, 0)   | Red: `11111111`, Green: `00000000`, Blue: `00000000` |\n",
    "| (0, 255, 0)   | Green                                 |\n",
    "| (0, 0, 255)   | Blue                                  |"
   ]
  },
  {
   "cell_type": "markdown",
   "id": "1ee5b8c0",
   "metadata": {},
   "source": [
    "### Section 6: Bitwise Operations\n",
    "\n",
    "- AND (`&`): Bit-by-bit logical AND  \n",
    "- OR (`|`): Bit-by-bit logical OR  \n",
    "- XOR (`^`): Bit-by-bit exclusive OR  \n",
    "- NOT (`~`): Inverts all bits  \n",
    "- SHIFT (`<<`, `>>`): Bit-shift left/right"
   ]
  },
  {
   "cell_type": "code",
   "execution_count": 3,
   "id": "613f120f",
   "metadata": {},
   "outputs": [
    {
     "name": "stdout",
     "output_type": "stream",
     "text": [
      "a & b: 0b1000\n",
      "a | b: 0b1110\n",
      "a ^ b: 0b110\n",
      "~a   : 0b11\n",
      "a << 1: 0b11000\n"
     ]
    }
   ],
   "source": [
    "a = 0b1100\n",
    "b = 0b1010\n",
    "\n",
    "print(\"a & b:\", bin(a & b))  # 0b1000\n",
    "print(\"a | b:\", bin(a | b))  # 0b1110\n",
    "print(\"a ^ b:\", bin(a ^ b))  # 0b0110\n",
    "print(\"~a   :\", bin(~a & 0xF)) # mask to 4 bits: 0b0011\n",
    "print(\"a << 1:\", bin(a << 1)) # 0b11000"
   ]
  },
  {
   "cell_type": "markdown",
   "id": "66948471",
   "metadata": {},
   "source": [
    "### Summary\n",
    "\n",
    "| Data Type | Binary Representation                     |\n",
    "|-----------|--------------------------------------------|\n",
    "| Integer   | Fixed bits (8/16/32/64), signed or unsigned |\n",
    "| Text      | Mapped using encoding like ASCII/Unicode    |\n",
    "| Image     | Grid of RGB tuples, each color → 8-bit int  |\n",
    "| Logic     | Handled with bitwise ops on integers        |\n",
    "\n",
    "Binary is the **universal language** of the computer, and all higher abstractions build upon it."
   ]
  },
  {
   "cell_type": "markdown",
   "id": "14688a37",
   "metadata": {},
   "source": []
  }
 ],
 "metadata": {
  "kernelspec": {
   "display_name": "Python 3",
   "language": "python",
   "name": "python3"
  },
  "language_info": {
   "codemirror_mode": {
    "name": "ipython",
    "version": 3
   },
   "file_extension": ".py",
   "mimetype": "text/x-python",
   "name": "python",
   "nbconvert_exporter": "python",
   "pygments_lexer": "ipython3",
   "version": "3.10.12"
  }
 },
 "nbformat": 4,
 "nbformat_minor": 5
}
