{
 "cells": [
  {
   "cell_type": "markdown",
   "metadata": {},
   "source": [
    "#  Notebook 0.8: How Python Actually Runs on a Computer\n",
    "\n",
    "###  Goal:\n",
    "Understand the internal steps Python takes to run your code — from source to machine instructions."
   ]
  },
  {
   "cell_type": "markdown",
   "metadata": {},
   "source": [
    "###  Section 1: Python Execution Pipeline\n",
    "\n",
    "Python follows this path to execute your code:\n",
    "\n",
    "```text\n",
    "Python Source Code (.py)\n",
    "   ↓\n",
    "Tokenizer → Parser → Abstract Syntax Tree (AST)\n",
    "   ↓\n",
    "Compiler → Bytecode (.pyc)\n",
    "   ↓\n",
    "Python Virtual Machine (PVM)\n",
    "   ↓\n",
    "Machine-level instructions (via C backend)\n",
    "```\n",
    "\n",
    "- Each stage transforms and prepares the code for efficient execution."
   ]
  },
  {
   "cell_type": "markdown",
   "metadata": {},
   "source": [
    "###  Section 2: Tokenization and Parsing"
   ]
  },
  {
   "cell_type": "code",
   "execution_count": 1,
   "metadata": {},
   "outputs": [
    {
     "name": "stdout",
     "output_type": "stream",
     "text": [
      "TokenInfo(type=63 (ENCODING), string='utf-8', start=(0, 0), end=(0, 0), line='')\n",
      "TokenInfo(type=1 (NAME), string='x', start=(1, 0), end=(1, 1), line='x = 3 + 4')\n",
      "TokenInfo(type=54 (OP), string='=', start=(1, 2), end=(1, 3), line='x = 3 + 4')\n",
      "TokenInfo(type=2 (NUMBER), string='3', start=(1, 4), end=(1, 5), line='x = 3 + 4')\n",
      "TokenInfo(type=54 (OP), string='+', start=(1, 6), end=(1, 7), line='x = 3 + 4')\n",
      "TokenInfo(type=2 (NUMBER), string='4', start=(1, 8), end=(1, 9), line='x = 3 + 4')\n",
      "TokenInfo(type=4 (NEWLINE), string='', start=(1, 9), end=(1, 10), line='')\n",
      "TokenInfo(type=0 (ENDMARKER), string='', start=(2, 0), end=(2, 0), line='')\n"
     ]
    }
   ],
   "source": [
    "import tokenize\n",
    "from io import BytesIO\n",
    "\n",
    "code = b\"x = 3 + 4\"\n",
    "for tok in tokenize.tokenize(BytesIO(code).readline):\n",
    "    print(tok)"
   ]
  },
  {
   "cell_type": "markdown",
   "metadata": {},
   "source": [
    "- Tokenization splits code into **identifiers, numbers, operators**.\n",
    "- Parser builds an **AST** (abstract syntax tree) from those tokens."
   ]
  },
  {
   "cell_type": "code",
   "execution_count": 2,
   "metadata": {},
   "outputs": [
    {
     "data": {
      "text/plain": [
       "\"Module(\\n    body=[\\n        Assign(\\n            targets=[\\n                Name(id='x', ctx=Store())],\\n            value=BinOp(\\n                left=Constant(value=3),\\n                op=Add(),\\n                right=Constant(value=4)))],\\n    type_ignores=[])\""
      ]
     },
     "execution_count": 2,
     "metadata": {},
     "output_type": "execute_result"
    }
   ],
   "source": [
    "import ast\n",
    "\n",
    "expr = \"x = 3 + 4\"\n",
    "tree = ast.parse(expr)\n",
    "ast.dump(tree, indent=4)"
   ]
  },
  {
   "cell_type": "markdown",
   "metadata": {},
   "source": [
    "###  Section 3: Compilation to Bytecode"
   ]
  },
  {
   "cell_type": "code",
   "execution_count": 3,
   "metadata": {},
   "outputs": [
    {
     "name": "stdout",
     "output_type": "stream",
     "text": [
      "  4           0 LOAD_CONST               1 (7)\n",
      "              2 STORE_FAST               0 (x)\n",
      "\n",
      "  5           4 LOAD_FAST                0 (x)\n",
      "              6 RETURN_VALUE\n"
     ]
    }
   ],
   "source": [
    "import dis\n",
    "\n",
    "def f():\n",
    "    x = 3 + 4\n",
    "    return x\n",
    "\n",
    "dis.dis(f)"
   ]
  },
  {
   "cell_type": "markdown",
   "metadata": {},
   "source": [
    "- Python is **compiled to bytecode**, not machine code.\n",
    "- This bytecode is platform-independent and executed by the **Python Virtual Machine**."
   ]
  },
  {
   "cell_type": "markdown",
   "metadata": {},
   "source": [
    "###  Section 4: Python Virtual Machine (PVM)\n",
    "\n",
    "- The PVM is a **stack-based interpreter** written in C.\n",
    "- It reads `.pyc` files and runs bytecode instructions like `LOAD_CONST`, `BINARY_ADD`, etc.\n",
    "- Located in `ceval.c` in CPython source.\n",
    "\n",
    "```text\n",
    "Bytecode → PVM loop (C) → Machine Instructions\n",
    "```\n",
    "\n",
    "- Each bytecode op is handled by a big switch-case loop in C:\n",
    "```c\n",
    "switch(opcode) {\n",
    "  case LOAD_CONST:\n",
    "    ...\n",
    "  case BINARY_ADD:\n",
    "    ...\n",
    "}\n",
    "```"
   ]
  },
  {
   "cell_type": "markdown",
   "metadata": {},
   "source": [
    "###  Section 5: .pyc Files and Caching\n",
    "\n",
    "- When a `.py` file runs, Python generates a `.pyc` file in `__pycache__/`\n",
    "- These contain the compiled bytecode\n",
    "- They speed up startup since parsing/compiling isn't needed again\n",
    "\n",
    "```bash\n",
    "__pycache__/example.cpython-310.pyc\n",
    "```"
   ]
  },
  {
   "cell_type": "markdown",
   "metadata": {},
   "source": [
    "###  Summary\n",
    "\n",
    "| Stage        | Description                                     |\n",
    "|--------------|-------------------------------------------------|\n",
    "| Tokenization | Convert text into symbols (x, +, =)             |\n",
    "| Parsing      | Build a syntax tree (AST)                      |\n",
    "| Compilation  | Turn AST into bytecode                         |\n",
    "| PVM          | Run bytecode using stack-based interpreter     |\n",
    "| Machine Code | Generated indirectly through C backend         |\n",
    "\n",
    "**Python is not just interpreted — it compiles to bytecode and runs on a virtual machine.**"
   ]
  },
  {
   "cell_type": "markdown",
   "id": "93bee945",
   "metadata": {},
   "source": []
  }
 ],
 "metadata": {
  "kernelspec": {
   "display_name": "Python 3",
   "language": "python",
   "name": "python3"
  },
  "language_info": {
   "codemirror_mode": {
    "name": "ipython",
    "version": 3
   },
   "file_extension": ".py",
   "mimetype": "text/x-python",
   "name": "python",
   "nbconvert_exporter": "python",
   "pygments_lexer": "ipython3",
   "version": "3.10.12"
  }
 },
 "nbformat": 4,
 "nbformat_minor": 5
}
